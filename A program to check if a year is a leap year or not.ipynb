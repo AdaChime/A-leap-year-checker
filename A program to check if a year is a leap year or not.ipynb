{
 "cells": [
  {
   "cell_type": "code",
   "execution_count": 1,
   "id": "06e68c32",
   "metadata": {},
   "outputs": [
    {
     "name": "stdout",
     "output_type": "stream",
     "text": [
      "Input year: 69\n",
      "69 is not a leap year\n"
     ]
    }
   ],
   "source": [
    "#to get the year from user\n",
    "year = int(input(\"Input year: \"))\n",
    "\n",
    "#creating a conditional statement, dividing by 4 and giving no remainder means that it is a leap year.\n",
    "if (year % 4 == 0):\n",
    "    print(f\"{year} is a leap year\".format(year))\n",
    "else:\n",
    "    print(f\"{year} is not a leap year\".format(year))"
   ]
  },
  {
   "cell_type": "code",
   "execution_count": null,
   "id": "6e331d20",
   "metadata": {},
   "outputs": [],
   "source": []
  }
 ],
 "metadata": {
  "kernelspec": {
   "display_name": "Python 3 (ipykernel)",
   "language": "python",
   "name": "python3"
  },
  "language_info": {
   "codemirror_mode": {
    "name": "ipython",
    "version": 3
   },
   "file_extension": ".py",
   "mimetype": "text/x-python",
   "name": "python",
   "nbconvert_exporter": "python",
   "pygments_lexer": "ipython3",
   "version": "3.9.7"
  }
 },
 "nbformat": 4,
 "nbformat_minor": 5
}
